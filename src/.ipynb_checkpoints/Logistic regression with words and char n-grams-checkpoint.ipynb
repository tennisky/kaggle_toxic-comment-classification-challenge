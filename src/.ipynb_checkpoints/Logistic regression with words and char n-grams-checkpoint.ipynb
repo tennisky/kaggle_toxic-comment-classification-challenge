{
 "cells": [
  {
   "cell_type": "code",
   "execution_count": 1,
   "metadata": {},
   "outputs": [],
   "source": [
    "import numpy as np\n",
    "import pandas as pd\n",
    "\n",
    "from sklearn.feature_extraction.text import TfidfVectorizer\n",
    "from sklearn.linear_model import LogisticRegression\n",
    "from sklearn.model_selection import cross_val_score\n",
    "from scipy.sparse import hstack\n",
    "from scipy.special import logit, expit\n",
    "from tqdm import tqdm"
   ]
  },
  {
   "cell_type": "code",
   "execution_count": 2,
   "metadata": {},
   "outputs": [],
   "source": [
    "class_names = ['toxic', 'severe_toxic', 'obscene', 'threat', 'insult', 'identity_hate']"
   ]
  },
  {
   "cell_type": "code",
   "execution_count": 3,
   "metadata": {},
   "outputs": [],
   "source": [
    "train = pd.read_csv('../input/train.csv').fillna(' ')\n",
    "test = pd.read_csv('../input/test.csv').fillna(' ')"
   ]
  },
  {
   "cell_type": "code",
   "execution_count": 4,
   "metadata": {},
   "outputs": [
    {
     "data": {
      "text/html": [
       "<div>\n",
       "<style scoped>\n",
       "    .dataframe tbody tr th:only-of-type {\n",
       "        vertical-align: middle;\n",
       "    }\n",
       "\n",
       "    .dataframe tbody tr th {\n",
       "        vertical-align: top;\n",
       "    }\n",
       "\n",
       "    .dataframe thead th {\n",
       "        text-align: right;\n",
       "    }\n",
       "</style>\n",
       "<table border=\"1\" class=\"dataframe\">\n",
       "  <thead>\n",
       "    <tr style=\"text-align: right;\">\n",
       "      <th></th>\n",
       "      <th>id</th>\n",
       "      <th>comment_text</th>\n",
       "      <th>toxic</th>\n",
       "      <th>severe_toxic</th>\n",
       "      <th>obscene</th>\n",
       "      <th>threat</th>\n",
       "      <th>insult</th>\n",
       "      <th>identity_hate</th>\n",
       "    </tr>\n",
       "  </thead>\n",
       "  <tbody>\n",
       "    <tr>\n",
       "      <th>0</th>\n",
       "      <td>0000997932d777bf</td>\n",
       "      <td>Explanation\\nWhy the edits made under my usern...</td>\n",
       "      <td>0</td>\n",
       "      <td>0</td>\n",
       "      <td>0</td>\n",
       "      <td>0</td>\n",
       "      <td>0</td>\n",
       "      <td>0</td>\n",
       "    </tr>\n",
       "    <tr>\n",
       "      <th>1</th>\n",
       "      <td>000103f0d9cfb60f</td>\n",
       "      <td>D'aww! He matches this background colour I'm s...</td>\n",
       "      <td>0</td>\n",
       "      <td>0</td>\n",
       "      <td>0</td>\n",
       "      <td>0</td>\n",
       "      <td>0</td>\n",
       "      <td>0</td>\n",
       "    </tr>\n",
       "    <tr>\n",
       "      <th>2</th>\n",
       "      <td>000113f07ec002fd</td>\n",
       "      <td>Hey man, I'm really not trying to edit war. It...</td>\n",
       "      <td>0</td>\n",
       "      <td>0</td>\n",
       "      <td>0</td>\n",
       "      <td>0</td>\n",
       "      <td>0</td>\n",
       "      <td>0</td>\n",
       "    </tr>\n",
       "    <tr>\n",
       "      <th>3</th>\n",
       "      <td>0001b41b1c6bb37e</td>\n",
       "      <td>\"\\nMore\\nI can't make any real suggestions on ...</td>\n",
       "      <td>0</td>\n",
       "      <td>0</td>\n",
       "      <td>0</td>\n",
       "      <td>0</td>\n",
       "      <td>0</td>\n",
       "      <td>0</td>\n",
       "    </tr>\n",
       "    <tr>\n",
       "      <th>4</th>\n",
       "      <td>0001d958c54c6e35</td>\n",
       "      <td>You, sir, are my hero. Any chance you remember...</td>\n",
       "      <td>0</td>\n",
       "      <td>0</td>\n",
       "      <td>0</td>\n",
       "      <td>0</td>\n",
       "      <td>0</td>\n",
       "      <td>0</td>\n",
       "    </tr>\n",
       "  </tbody>\n",
       "</table>\n",
       "</div>"
      ],
      "text/plain": [
       "                 id                                       comment_text  toxic  \\\n",
       "0  0000997932d777bf  Explanation\\nWhy the edits made under my usern...      0   \n",
       "1  000103f0d9cfb60f  D'aww! He matches this background colour I'm s...      0   \n",
       "2  000113f07ec002fd  Hey man, I'm really not trying to edit war. It...      0   \n",
       "3  0001b41b1c6bb37e  \"\\nMore\\nI can't make any real suggestions on ...      0   \n",
       "4  0001d958c54c6e35  You, sir, are my hero. Any chance you remember...      0   \n",
       "\n",
       "   severe_toxic  obscene  threat  insult  identity_hate  \n",
       "0             0        0       0       0              0  \n",
       "1             0        0       0       0              0  \n",
       "2             0        0       0       0              0  \n",
       "3             0        0       0       0              0  \n",
       "4             0        0       0       0              0  "
      ]
     },
     "execution_count": 4,
     "metadata": {},
     "output_type": "execute_result"
    }
   ],
   "source": [
    "train.head()"
   ]
  },
  {
   "cell_type": "code",
   "execution_count": 5,
   "metadata": {},
   "outputs": [
    {
     "data": {
      "text/html": [
       "<div>\n",
       "<style scoped>\n",
       "    .dataframe tbody tr th:only-of-type {\n",
       "        vertical-align: middle;\n",
       "    }\n",
       "\n",
       "    .dataframe tbody tr th {\n",
       "        vertical-align: top;\n",
       "    }\n",
       "\n",
       "    .dataframe thead th {\n",
       "        text-align: right;\n",
       "    }\n",
       "</style>\n",
       "<table border=\"1\" class=\"dataframe\">\n",
       "  <thead>\n",
       "    <tr style=\"text-align: right;\">\n",
       "      <th></th>\n",
       "      <th>toxic</th>\n",
       "      <th>severe_toxic</th>\n",
       "      <th>obscene</th>\n",
       "      <th>threat</th>\n",
       "      <th>insult</th>\n",
       "      <th>identity_hate</th>\n",
       "    </tr>\n",
       "  </thead>\n",
       "  <tbody>\n",
       "    <tr>\n",
       "      <th>count</th>\n",
       "      <td>159571.000000</td>\n",
       "      <td>159571.000000</td>\n",
       "      <td>159571.000000</td>\n",
       "      <td>159571.000000</td>\n",
       "      <td>159571.000000</td>\n",
       "      <td>159571.000000</td>\n",
       "    </tr>\n",
       "    <tr>\n",
       "      <th>mean</th>\n",
       "      <td>0.095844</td>\n",
       "      <td>0.009996</td>\n",
       "      <td>0.052948</td>\n",
       "      <td>0.002996</td>\n",
       "      <td>0.049364</td>\n",
       "      <td>0.008805</td>\n",
       "    </tr>\n",
       "    <tr>\n",
       "      <th>std</th>\n",
       "      <td>0.294379</td>\n",
       "      <td>0.099477</td>\n",
       "      <td>0.223931</td>\n",
       "      <td>0.054650</td>\n",
       "      <td>0.216627</td>\n",
       "      <td>0.093420</td>\n",
       "    </tr>\n",
       "    <tr>\n",
       "      <th>min</th>\n",
       "      <td>0.000000</td>\n",
       "      <td>0.000000</td>\n",
       "      <td>0.000000</td>\n",
       "      <td>0.000000</td>\n",
       "      <td>0.000000</td>\n",
       "      <td>0.000000</td>\n",
       "    </tr>\n",
       "    <tr>\n",
       "      <th>25%</th>\n",
       "      <td>0.000000</td>\n",
       "      <td>0.000000</td>\n",
       "      <td>0.000000</td>\n",
       "      <td>0.000000</td>\n",
       "      <td>0.000000</td>\n",
       "      <td>0.000000</td>\n",
       "    </tr>\n",
       "    <tr>\n",
       "      <th>50%</th>\n",
       "      <td>0.000000</td>\n",
       "      <td>0.000000</td>\n",
       "      <td>0.000000</td>\n",
       "      <td>0.000000</td>\n",
       "      <td>0.000000</td>\n",
       "      <td>0.000000</td>\n",
       "    </tr>\n",
       "    <tr>\n",
       "      <th>75%</th>\n",
       "      <td>0.000000</td>\n",
       "      <td>0.000000</td>\n",
       "      <td>0.000000</td>\n",
       "      <td>0.000000</td>\n",
       "      <td>0.000000</td>\n",
       "      <td>0.000000</td>\n",
       "    </tr>\n",
       "    <tr>\n",
       "      <th>max</th>\n",
       "      <td>1.000000</td>\n",
       "      <td>1.000000</td>\n",
       "      <td>1.000000</td>\n",
       "      <td>1.000000</td>\n",
       "      <td>1.000000</td>\n",
       "      <td>1.000000</td>\n",
       "    </tr>\n",
       "  </tbody>\n",
       "</table>\n",
       "</div>"
      ],
      "text/plain": [
       "               toxic   severe_toxic        obscene         threat  \\\n",
       "count  159571.000000  159571.000000  159571.000000  159571.000000   \n",
       "mean        0.095844       0.009996       0.052948       0.002996   \n",
       "std         0.294379       0.099477       0.223931       0.054650   \n",
       "min         0.000000       0.000000       0.000000       0.000000   \n",
       "25%         0.000000       0.000000       0.000000       0.000000   \n",
       "50%         0.000000       0.000000       0.000000       0.000000   \n",
       "75%         0.000000       0.000000       0.000000       0.000000   \n",
       "max         1.000000       1.000000       1.000000       1.000000   \n",
       "\n",
       "              insult  identity_hate  \n",
       "count  159571.000000  159571.000000  \n",
       "mean        0.049364       0.008805  \n",
       "std         0.216627       0.093420  \n",
       "min         0.000000       0.000000  \n",
       "25%         0.000000       0.000000  \n",
       "50%         0.000000       0.000000  \n",
       "75%         0.000000       0.000000  \n",
       "max         1.000000       1.000000  "
      ]
     },
     "execution_count": 5,
     "metadata": {},
     "output_type": "execute_result"
    }
   ],
   "source": [
    "train.describe()"
   ]
  },
  {
   "cell_type": "code",
   "execution_count": 6,
   "metadata": {},
   "outputs": [
    {
     "name": "stdout",
     "output_type": "stream",
     "text": [
      "<class 'pandas.core.frame.DataFrame'>\n",
      "RangeIndex: 159571 entries, 0 to 159570\n",
      "Data columns (total 8 columns):\n",
      "id               159571 non-null object\n",
      "comment_text     159571 non-null object\n",
      "toxic            159571 non-null int64\n",
      "severe_toxic     159571 non-null int64\n",
      "obscene          159571 non-null int64\n",
      "threat           159571 non-null int64\n",
      "insult           159571 non-null int64\n",
      "identity_hate    159571 non-null int64\n",
      "dtypes: int64(6), object(2)\n",
      "memory usage: 9.7+ MB\n"
     ]
    }
   ],
   "source": [
    "train.info()"
   ]
  },
  {
   "cell_type": "code",
   "execution_count": 7,
   "metadata": {},
   "outputs": [
    {
     "data": {
      "text/html": [
       "<div>\n",
       "<style scoped>\n",
       "    .dataframe tbody tr th:only-of-type {\n",
       "        vertical-align: middle;\n",
       "    }\n",
       "\n",
       "    .dataframe tbody tr th {\n",
       "        vertical-align: top;\n",
       "    }\n",
       "\n",
       "    .dataframe thead th {\n",
       "        text-align: right;\n",
       "    }\n",
       "</style>\n",
       "<table border=\"1\" class=\"dataframe\">\n",
       "  <thead>\n",
       "    <tr style=\"text-align: right;\">\n",
       "      <th></th>\n",
       "      <th>id</th>\n",
       "      <th>comment_text</th>\n",
       "    </tr>\n",
       "  </thead>\n",
       "  <tbody>\n",
       "    <tr>\n",
       "      <th>0</th>\n",
       "      <td>00001cee341fdb12</td>\n",
       "      <td>Yo bitch Ja Rule is more succesful then you'll...</td>\n",
       "    </tr>\n",
       "    <tr>\n",
       "      <th>1</th>\n",
       "      <td>0000247867823ef7</td>\n",
       "      <td>== From RfC == \\n\\n The title is fine as it is...</td>\n",
       "    </tr>\n",
       "    <tr>\n",
       "      <th>2</th>\n",
       "      <td>00013b17ad220c46</td>\n",
       "      <td>\" \\n\\n == Sources == \\n\\n * Zawe Ashton on Lap...</td>\n",
       "    </tr>\n",
       "    <tr>\n",
       "      <th>3</th>\n",
       "      <td>00017563c3f7919a</td>\n",
       "      <td>:If you have a look back at the source, the in...</td>\n",
       "    </tr>\n",
       "    <tr>\n",
       "      <th>4</th>\n",
       "      <td>00017695ad8997eb</td>\n",
       "      <td>I don't anonymously edit articles at all.</td>\n",
       "    </tr>\n",
       "  </tbody>\n",
       "</table>\n",
       "</div>"
      ],
      "text/plain": [
       "                 id                                       comment_text\n",
       "0  00001cee341fdb12  Yo bitch Ja Rule is more succesful then you'll...\n",
       "1  0000247867823ef7  == From RfC == \\n\\n The title is fine as it is...\n",
       "2  00013b17ad220c46  \" \\n\\n == Sources == \\n\\n * Zawe Ashton on Lap...\n",
       "3  00017563c3f7919a  :If you have a look back at the source, the in...\n",
       "4  00017695ad8997eb          I don't anonymously edit articles at all."
      ]
     },
     "execution_count": 7,
     "metadata": {},
     "output_type": "execute_result"
    }
   ],
   "source": [
    "test.head()"
   ]
  },
  {
   "cell_type": "code",
   "execution_count": 8,
   "metadata": {},
   "outputs": [
    {
     "data": {
      "text/html": [
       "<div>\n",
       "<style scoped>\n",
       "    .dataframe tbody tr th:only-of-type {\n",
       "        vertical-align: middle;\n",
       "    }\n",
       "\n",
       "    .dataframe tbody tr th {\n",
       "        vertical-align: top;\n",
       "    }\n",
       "\n",
       "    .dataframe thead th {\n",
       "        text-align: right;\n",
       "    }\n",
       "</style>\n",
       "<table border=\"1\" class=\"dataframe\">\n",
       "  <thead>\n",
       "    <tr style=\"text-align: right;\">\n",
       "      <th></th>\n",
       "      <th>id</th>\n",
       "      <th>comment_text</th>\n",
       "    </tr>\n",
       "  </thead>\n",
       "  <tbody>\n",
       "    <tr>\n",
       "      <th>count</th>\n",
       "      <td>153164</td>\n",
       "      <td>153164</td>\n",
       "    </tr>\n",
       "    <tr>\n",
       "      <th>unique</th>\n",
       "      <td>153164</td>\n",
       "      <td>153164</td>\n",
       "    </tr>\n",
       "    <tr>\n",
       "      <th>top</th>\n",
       "      <td>53a47a682e1841a3</td>\n",
       "      <td>== pop culture == \\n\\n the show dexter, and th...</td>\n",
       "    </tr>\n",
       "    <tr>\n",
       "      <th>freq</th>\n",
       "      <td>1</td>\n",
       "      <td>1</td>\n",
       "    </tr>\n",
       "  </tbody>\n",
       "</table>\n",
       "</div>"
      ],
      "text/plain": [
       "                      id                                       comment_text\n",
       "count             153164                                             153164\n",
       "unique            153164                                             153164\n",
       "top     53a47a682e1841a3  == pop culture == \\n\\n the show dexter, and th...\n",
       "freq                   1                                                  1"
      ]
     },
     "execution_count": 8,
     "metadata": {},
     "output_type": "execute_result"
    }
   ],
   "source": [
    "test.describe()"
   ]
  },
  {
   "cell_type": "code",
   "execution_count": 9,
   "metadata": {},
   "outputs": [
    {
     "name": "stdout",
     "output_type": "stream",
     "text": [
      "<class 'pandas.core.frame.DataFrame'>\n",
      "RangeIndex: 153164 entries, 0 to 153163\n",
      "Data columns (total 2 columns):\n",
      "id              153164 non-null object\n",
      "comment_text    153164 non-null object\n",
      "dtypes: object(2)\n",
      "memory usage: 2.3+ MB\n"
     ]
    }
   ],
   "source": [
    "test.info()"
   ]
  },
  {
   "cell_type": "code",
   "execution_count": 10,
   "metadata": {},
   "outputs": [],
   "source": [
    "train_text = train['comment_text']\n",
    "test_text = test['comment_text']\n",
    "all_text = pd.concat([train_text, test_text])"
   ]
  },
  {
   "cell_type": "code",
   "execution_count": 11,
   "metadata": {},
   "outputs": [
    {
     "data": {
      "text/plain": [
       "0    Explanation\\nWhy the edits made under my usern...\n",
       "1    D'aww! He matches this background colour I'm s...\n",
       "2    Hey man, I'm really not trying to edit war. It...\n",
       "3    \"\\nMore\\nI can't make any real suggestions on ...\n",
       "4    You, sir, are my hero. Any chance you remember...\n",
       "Name: comment_text, dtype: object"
      ]
     },
     "execution_count": 11,
     "metadata": {},
     "output_type": "execute_result"
    }
   ],
   "source": [
    "train_text.head()"
   ]
  },
  {
   "cell_type": "code",
   "execution_count": 12,
   "metadata": {},
   "outputs": [
    {
     "data": {
      "text/plain": [
       "0    Yo bitch Ja Rule is more succesful then you'll...\n",
       "1    == From RfC == \\n\\n The title is fine as it is...\n",
       "2    \" \\n\\n == Sources == \\n\\n * Zawe Ashton on Lap...\n",
       "3    :If you have a look back at the source, the in...\n",
       "4            I don't anonymously edit articles at all.\n",
       "Name: comment_text, dtype: object"
      ]
     },
     "execution_count": 12,
     "metadata": {},
     "output_type": "execute_result"
    }
   ],
   "source": [
    "test_text.head()"
   ]
  },
  {
   "cell_type": "code",
   "execution_count": 13,
   "metadata": {},
   "outputs": [
    {
     "data": {
      "text/plain": [
       "0    Explanation\\nWhy the edits made under my usern...\n",
       "1    D'aww! He matches this background colour I'm s...\n",
       "2    Hey man, I'm really not trying to edit war. It...\n",
       "3    \"\\nMore\\nI can't make any real suggestions on ...\n",
       "4    You, sir, are my hero. Any chance you remember...\n",
       "Name: comment_text, dtype: object"
      ]
     },
     "execution_count": 13,
     "metadata": {},
     "output_type": "execute_result"
    }
   ],
   "source": [
    "all_text.head()"
   ]
  },
  {
   "cell_type": "code",
   "execution_count": 14,
   "metadata": {},
   "outputs": [],
   "source": [
    "word_vectorizer = TfidfVectorizer(\n",
    "    sublinear_tf = True,\n",
    "    strip_accents = 'unicode',\n",
    "    analyzer = 'word',\n",
    "    token_pattern= r'\\w{1,}',\n",
    "    ngram_range = (1, 1),\n",
    "    max_features = 15000\n",
    ")"
   ]
  },
  {
   "cell_type": "code",
   "execution_count": 15,
   "metadata": {},
   "outputs": [
    {
     "data": {
      "text/plain": [
       "TfidfVectorizer(analyzer='word', binary=False, decode_error='strict',\n",
       "        dtype=<class 'numpy.int64'>, encoding='utf-8', input='content',\n",
       "        lowercase=True, max_df=1.0, max_features=15000, min_df=1,\n",
       "        ngram_range=(1, 1), norm='l2', preprocessor=None, smooth_idf=True,\n",
       "        stop_words=None, strip_accents='unicode', sublinear_tf=True,\n",
       "        token_pattern='\\\\w{1,}', tokenizer=None, use_idf=True,\n",
       "        vocabulary=None)"
      ]
     },
     "execution_count": 15,
     "metadata": {},
     "output_type": "execute_result"
    }
   ],
   "source": [
    "word_vectorizer.fit(all_text)"
   ]
  },
  {
   "cell_type": "code",
   "execution_count": 16,
   "metadata": {},
   "outputs": [],
   "source": [
    "train_word_features = word_vectorizer.transform(train_text)"
   ]
  },
  {
   "cell_type": "code",
   "execution_count": 17,
   "metadata": {},
   "outputs": [
    {
     "data": {
      "text/plain": [
       "<159571x15000 sparse matrix of type '<class 'numpy.float64'>'\n",
       "\twith 6838379 stored elements in Compressed Sparse Row format>"
      ]
     },
     "execution_count": 17,
     "metadata": {},
     "output_type": "execute_result"
    }
   ],
   "source": [
    "train_word_features"
   ]
  },
  {
   "cell_type": "code",
   "execution_count": 18,
   "metadata": {},
   "outputs": [
    {
     "name": "stdout",
     "output_type": "stream",
     "text": [
      "  (0, 14633)\t0.17682103053236303\n",
      "  (0, 14348)\t0.09611221730177759\n",
      "  (0, 14286)\t0.1889447070318102\n",
      "  (0, 14285)\t0.10207716282923182\n",
      "  (0, 14121)\t0.2003881177896734\n",
      "  (0, 13929)\t0.2676913213172272\n",
      "  (0, 13868)\t0.16213376800995843\n",
      "  (0, 13673)\t0.12226142793792552\n",
      "  (0, 13167)\t0.08734059450386246\n",
      "  (0, 13123)\t0.08233132554959967\n",
      "  (0, 13040)\t0.1428880703354296\n",
      "  (0, 12939)\t0.08349093619277179\n",
      "  (0, 12898)\t0.11370200715870034\n",
      "  (0, 12236)\t0.08896112473816259\n",
      "  (0, 12035)\t0.11240038759012848\n",
      "  (0, 11213)\t0.13727526853794716\n",
      "  (0, 11180)\t0.21279244550633455\n",
      "  (0, 10998)\t0.1271888633952866\n",
      "  (0, 9961)\t0.08393171529553184\n",
      "  (0, 9523)\t0.0781935204610558\n",
      "  (0, 9304)\t0.0611329144564909\n",
      "  (0, 9125)\t0.09855316232468962\n",
      "  (0, 8945)\t0.110134725510256\n",
      "  (0, 8783)\t0.07770475354170067\n",
      "  (0, 8401)\t0.25687024490856886\n",
      "  :\t:\n",
      "  (159570, 13681)\t0.1856917331435626\n",
      "  (159570, 13176)\t0.13064447891285086\n",
      "  (159570, 13132)\t0.14532014137869506\n",
      "  (159570, 12898)\t0.09701269386576174\n",
      "  (159570, 11296)\t0.16396621423905874\n",
      "  (159570, 11243)\t0.27261837322220783\n",
      "  (159570, 10755)\t0.1585210624338273\n",
      "  (159570, 9243)\t0.11850415670814671\n",
      "  (159570, 8783)\t0.11225423437292556\n",
      "  (159570, 7525)\t0.2019940800084585\n",
      "  (159570, 7025)\t0.1948453781501538\n",
      "  (159570, 6672)\t0.2506261449919166\n",
      "  (159570, 6668)\t0.19852800014205632\n",
      "  (159570, 6652)\t0.11211943621129129\n",
      "  (159570, 6369)\t0.13011304502322618\n",
      "  (159570, 6357)\t0.2593967999353032\n",
      "  (159570, 6282)\t0.09386019860435807\n",
      "  (159570, 5955)\t0.22774183029360057\n",
      "  (159570, 5939)\t0.1579189053218514\n",
      "  (159570, 4346)\t0.126070100200052\n",
      "  (159570, 2990)\t0.2164432868686162\n",
      "  (159570, 2291)\t0.21520566369326033\n",
      "  (159570, 1542)\t0.3375251173993696\n",
      "  (159570, 1490)\t0.35545554056231643\n",
      "  (159570, 1005)\t0.11527525771752727\n"
     ]
    }
   ],
   "source": [
    "print(train_word_features)"
   ]
  },
  {
   "cell_type": "code",
   "execution_count": 19,
   "metadata": {},
   "outputs": [],
   "source": [
    "test_word_features = word_vectorizer.transform(test_text)"
   ]
  },
  {
   "cell_type": "code",
   "execution_count": 20,
   "metadata": {},
   "outputs": [
    {
     "data": {
      "text/plain": [
       "<153164x15000 sparse matrix of type '<class 'numpy.float64'>'\n",
       "\twith 5757134 stored elements in Compressed Sparse Row format>"
      ]
     },
     "execution_count": 20,
     "metadata": {},
     "output_type": "execute_result"
    }
   ],
   "source": [
    "test_word_features"
   ]
  },
  {
   "cell_type": "code",
   "execution_count": 21,
   "metadata": {},
   "outputs": [
    {
     "name": "stdout",
     "output_type": "stream",
     "text": [
      "  (0, 14636)\t0.10559436854719087\n",
      "  (0, 14629)\t0.15804705955730877\n",
      "  (0, 14553)\t0.103040092394518\n",
      "  (0, 14453)\t0.05550925491862191\n",
      "  (0, 14326)\t0.2180221661261628\n",
      "  (0, 14302)\t0.1687726759844263\n",
      "  (0, 14198)\t0.060357728750088116\n",
      "  (0, 13838)\t0.1519574809793168\n",
      "  (0, 13816)\t0.076674315683588\n",
      "  (0, 13551)\t0.2220810857621476\n",
      "  (0, 13330)\t0.09304408830413483\n",
      "  (0, 13292)\t0.035125173903489834\n",
      "  (0, 13256)\t0.08052050643244624\n",
      "  (0, 13174)\t0.10101497455311528\n",
      "  (0, 13137)\t0.08045700643608131\n",
      "  (0, 13120)\t0.04278665111862687\n",
      "  (0, 12103)\t0.1906990646991488\n",
      "  (0, 11944)\t0.07145696333289152\n",
      "  (0, 11910)\t0.11466384248896573\n",
      "  (0, 11482)\t0.1484126777127306\n",
      "  (0, 11440)\t0.21793520208326064\n",
      "  (0, 11296)\t0.09281330226925529\n",
      "  (0, 10251)\t0.17865863482969443\n",
      "  (0, 9304)\t0.04999034122728002\n",
      "  (0, 9095)\t0.21700659151998997\n",
      "  :\t:\n",
      "  (153162, 751)\t0.17585355169977065\n",
      "  (153162, 650)\t0.08813325406077673\n",
      "  (153162, 502)\t0.05673016008509393\n",
      "  (153163, 14645)\t0.13567621130724186\n",
      "  (153163, 14636)\t0.1592879630551216\n",
      "  (153163, 14276)\t0.19536106018656627\n",
      "  (153163, 14271)\t0.2438745554382065\n",
      "  (153163, 13176)\t0.1719259266767944\n",
      "  (153163, 13120)\t0.09947243591895567\n",
      "  (153163, 12548)\t0.22490348229130178\n",
      "  (153163, 9912)\t0.42526823686737114\n",
      "  (153163, 9243)\t0.09210626789433309\n",
      "  (153163, 9086)\t0.11349787185344846\n",
      "  (153163, 9026)\t0.15835639824225062\n",
      "  (153163, 8042)\t0.1761217411667231\n",
      "  (153163, 7525)\t0.2658207960846691\n",
      "  (153163, 7203)\t0.15846130763380328\n",
      "  (153163, 6694)\t0.12889277843299546\n",
      "  (153163, 6652)\t0.08714380250198303\n",
      "  (153163, 6369)\t0.1712265686579827\n",
      "  (153163, 5499)\t0.36094444325981645\n",
      "  (153163, 4795)\t0.24847207484124528\n",
      "  (153163, 2191)\t0.324338366152521\n",
      "  (153163, 1005)\t0.08959663579622719\n",
      "  (153163, 924)\t0.23598914019726958\n"
     ]
    }
   ],
   "source": [
    "print(test_word_features)"
   ]
  },
  {
   "cell_type": "code",
   "execution_count": 22,
   "metadata": {},
   "outputs": [],
   "source": [
    "char_vectorizer = TfidfVectorizer(\n",
    "    sublinear_tf = True,\n",
    "    strip_accents = 'unicode',\n",
    "    analyzer = 'char',\n",
    "    ngram_range = (1, 5),\n",
    "    max_features = 20000\n",
    ")"
   ]
  },
  {
   "cell_type": "code",
   "execution_count": 23,
   "metadata": {},
   "outputs": [
    {
     "data": {
      "text/plain": [
       "TfidfVectorizer(analyzer='char', binary=False, decode_error='strict',\n",
       "        dtype=<class 'numpy.int64'>, encoding='utf-8', input='content',\n",
       "        lowercase=True, max_df=1.0, max_features=20000, min_df=1,\n",
       "        ngram_range=(1, 5), norm='l2', preprocessor=None, smooth_idf=True,\n",
       "        stop_words=None, strip_accents='unicode', sublinear_tf=True,\n",
       "        token_pattern='(?u)\\\\b\\\\w\\\\w+\\\\b', tokenizer=None, use_idf=True,\n",
       "        vocabulary=None)"
      ]
     },
     "execution_count": 23,
     "metadata": {},
     "output_type": "execute_result"
    }
   ],
   "source": [
    "char_vectorizer.fit(all_text)"
   ]
  },
  {
   "cell_type": "code",
   "execution_count": 24,
   "metadata": {},
   "outputs": [],
   "source": [
    "train_char_features = char_vectorizer.transform(train_text)"
   ]
  },
  {
   "cell_type": "code",
   "execution_count": 25,
   "metadata": {},
   "outputs": [
    {
     "data": {
      "text/plain": [
       "<159571x20000 sparse matrix of type '<class 'numpy.float64'>'\n",
       "\twith 124714559 stored elements in Compressed Sparse Row format>"
      ]
     },
     "execution_count": 25,
     "metadata": {},
     "output_type": "execute_result"
    }
   ],
   "source": [
    "train_char_features"
   ]
  },
  {
   "cell_type": "code",
   "execution_count": 26,
   "metadata": {},
   "outputs": [
    {
     "name": "stdout",
     "output_type": "stream",
     "text": [
      "  (0, 19818)\t0.059935432870824416\n",
      "  (0, 19814)\t0.016230946089790747\n",
      "  (0, 19723)\t0.0530911896236433\n",
      "  (0, 19722)\t0.04533553135916414\n",
      "  (0, 19718)\t0.03001347176575773\n",
      "  (0, 19715)\t0.04881275162112216\n",
      "  (0, 19714)\t0.0468743831147328\n",
      "  (0, 19712)\t0.0394819350019667\n",
      "  (0, 19705)\t0.03357105888664221\n",
      "  (0, 19703)\t0.029077839290743233\n",
      "  (0, 19699)\t0.02432588803539244\n",
      "  (0, 19537)\t0.028091014964652567\n",
      "  (0, 19536)\t0.026765808451599402\n",
      "  (0, 19516)\t0.05489708592303375\n",
      "  (0, 19514)\t0.042662580811455\n",
      "  (0, 19513)\t0.04083445004605923\n",
      "  (0, 19505)\t0.03311608179063437\n",
      "  (0, 19480)\t0.02206157814588419\n",
      "  (0, 19388)\t0.05036057102944087\n",
      "  (0, 19384)\t0.03491636250341324\n",
      "  (0, 19383)\t0.03438984967426136\n",
      "  (0, 19352)\t0.018373346652018823\n",
      "  (0, 19345)\t0.036716267707461045\n",
      "  (0, 19344)\t0.06094598721631299\n",
      "  (0, 19342)\t0.0547617126794972\n",
      "  :\t:\n",
      "  (159570, 593)\t0.020221075936592565\n",
      "  (159570, 532)\t0.06013971205698886\n",
      "  (159570, 531)\t0.05494854405048095\n",
      "  (159570, 528)\t0.024820007522327242\n",
      "  (159570, 527)\t0.02695284803750038\n",
      "  (159570, 417)\t0.10132198236765731\n",
      "  (159570, 416)\t0.0944602552128102\n",
      "  (159570, 413)\t0.05431534379810167\n",
      "  (159570, 412)\t0.02663937539859936\n",
      "  (159570, 411)\t0.10204661654650882\n",
      "  (159570, 409)\t0.0872814726281242\n",
      "  (159570, 408)\t0.08388044382989145\n",
      "  (159570, 320)\t0.019805609606054025\n",
      "  (159570, 319)\t0.019719958253332354\n",
      "  (159570, 309)\t0.01759082512962137\n",
      "  (159570, 159)\t0.027610399218322815\n",
      "  (159570, 100)\t0.06592142138714681\n",
      "  (159570, 99)\t0.059945157880534415\n",
      "  (159570, 98)\t0.05900482082476991\n",
      "  (159570, 96)\t0.04765412894372582\n",
      "  (159570, 18)\t0.029601935194766414\n",
      "  (159570, 17)\t0.04230752793517911\n",
      "  (159570, 14)\t0.050994995569199085\n",
      "  (159570, 1)\t0.061300363656259994\n",
      "  (159570, 0)\t0.0366626822801942\n"
     ]
    }
   ],
   "source": [
    "print(train_char_features)"
   ]
  },
  {
   "cell_type": "code",
   "execution_count": 27,
   "metadata": {},
   "outputs": [],
   "source": [
    "test_char_features = char_vectorizer.transform(test_text)"
   ]
  },
  {
   "cell_type": "code",
   "execution_count": 28,
   "metadata": {},
   "outputs": [
    {
     "data": {
      "text/plain": [
       "<153164x20000 sparse matrix of type '<class 'numpy.float64'>'\n",
       "\twith 106315375 stored elements in Compressed Sparse Row format>"
      ]
     },
     "execution_count": 28,
     "metadata": {},
     "output_type": "execute_result"
    }
   ],
   "source": [
    "test_char_features"
   ]
  },
  {
   "cell_type": "code",
   "execution_count": 29,
   "metadata": {},
   "outputs": [
    {
     "name": "stdout",
     "output_type": "stream",
     "text": [
      "  (0, 19864)\t0.05191729660595573\n",
      "  (0, 19863)\t0.043715706672218\n",
      "  (0, 19844)\t0.047755481282585124\n",
      "  (0, 19843)\t0.031344254718224746\n",
      "  (0, 19838)\t0.031073042360456864\n",
      "  (0, 19837)\t0.03085090391827725\n",
      "  (0, 19827)\t0.039686052416149725\n",
      "  (0, 19821)\t0.026234343297666735\n",
      "  (0, 19820)\t0.03670048519184597\n",
      "  (0, 19819)\t0.03624493809269632\n",
      "  (0, 19814)\t0.03770519002015135\n",
      "  (0, 19563)\t0.03807898109416327\n",
      "  (0, 19545)\t0.020641896006976097\n",
      "  (0, 19537)\t0.011138187388761076\n",
      "  (0, 19536)\t0.02984068540020253\n",
      "  (0, 19522)\t0.04769682185911593\n",
      "  (0, 19521)\t0.0354602774427016\n",
      "  (0, 19520)\t0.029326095496142894\n",
      "  (0, 19480)\t0.01835759889827229\n",
      "  (0, 19464)\t0.037152467881211126\n",
      "  (0, 19463)\t0.03714405409225756\n",
      "  (0, 19462)\t0.0343372992501615\n",
      "  (0, 19456)\t0.02732072348722788\n",
      "  (0, 19414)\t0.020329536806025846\n",
      "  (0, 19413)\t0.019407398246644073\n",
      "  :\t:\n",
      "  (153163, 886)\t0.02666249682085831\n",
      "  (153163, 834)\t0.020014471427728737\n",
      "  (153163, 827)\t0.05736093672652773\n",
      "  (153163, 824)\t0.04671378528309872\n",
      "  (153163, 816)\t0.03760528152595441\n",
      "  (153163, 784)\t0.06540215786461256\n",
      "  (153163, 783)\t0.06492859213006533\n",
      "  (153163, 774)\t0.039676249455686576\n",
      "  (153163, 743)\t0.03901172691854134\n",
      "  (153163, 513)\t0.07571416598300146\n",
      "  (153163, 512)\t0.07304868461273306\n",
      "  (153163, 509)\t0.03271561540268526\n",
      "  (153163, 412)\t0.018988346983664046\n",
      "  (153163, 320)\t0.02390264972898571\n",
      "  (153163, 319)\t0.023799280313772455\n",
      "  (153163, 309)\t0.021229709152131026\n",
      "  (153163, 292)\t0.062146851169308376\n",
      "  (153163, 291)\t0.0616259945296002\n",
      "  (153163, 278)\t0.0310975235917408\n",
      "  (153163, 159)\t0.02688394630702812\n",
      "  (153163, 142)\t0.06361503724401013\n",
      "  (153163, 141)\t0.05691866044406233\n",
      "  (153163, 139)\t0.048838139850617523\n",
      "  (153163, 17)\t0.03015648859756971\n",
      "  (153163, 14)\t0.0573631499873832\n"
     ]
    }
   ],
   "source": [
    "print(test_char_features)"
   ]
  },
  {
   "cell_type": "code",
   "execution_count": 30,
   "metadata": {},
   "outputs": [],
   "source": [
    "train_features = hstack([train_char_features, train_word_features])"
   ]
  },
  {
   "cell_type": "code",
   "execution_count": 31,
   "metadata": {},
   "outputs": [
    {
     "data": {
      "text/plain": [
       "<159571x35000 sparse matrix of type '<class 'numpy.float64'>'\n",
       "\twith 131552938 stored elements in COOrdinate format>"
      ]
     },
     "execution_count": 31,
     "metadata": {},
     "output_type": "execute_result"
    }
   ],
   "source": [
    "train_features"
   ]
  },
  {
   "cell_type": "code",
   "execution_count": 32,
   "metadata": {},
   "outputs": [
    {
     "name": "stdout",
     "output_type": "stream",
     "text": [
      "  (0, 19818)\t0.059935432870824416\n",
      "  (0, 19814)\t0.016230946089790747\n",
      "  (0, 19723)\t0.0530911896236433\n",
      "  (0, 19722)\t0.04533553135916414\n",
      "  (0, 19718)\t0.03001347176575773\n",
      "  (0, 19715)\t0.04881275162112216\n",
      "  (0, 19714)\t0.0468743831147328\n",
      "  (0, 19712)\t0.0394819350019667\n",
      "  (0, 19705)\t0.03357105888664221\n",
      "  (0, 19703)\t0.029077839290743233\n",
      "  (0, 19699)\t0.02432588803539244\n",
      "  (0, 19537)\t0.028091014964652567\n",
      "  (0, 19536)\t0.026765808451599402\n",
      "  (0, 19516)\t0.05489708592303375\n",
      "  (0, 19514)\t0.042662580811455\n",
      "  (0, 19513)\t0.04083445004605923\n",
      "  (0, 19505)\t0.03311608179063437\n",
      "  (0, 19480)\t0.02206157814588419\n",
      "  (0, 19388)\t0.05036057102944087\n",
      "  (0, 19384)\t0.03491636250341324\n",
      "  (0, 19383)\t0.03438984967426136\n",
      "  (0, 19352)\t0.018373346652018823\n",
      "  (0, 19345)\t0.036716267707461045\n",
      "  (0, 19344)\t0.06094598721631299\n",
      "  (0, 19342)\t0.0547617126794972\n",
      "  :\t:\n",
      "  (159570, 33681)\t0.1856917331435626\n",
      "  (159570, 33176)\t0.13064447891285086\n",
      "  (159570, 33132)\t0.14532014137869506\n",
      "  (159570, 32898)\t0.09701269386576174\n",
      "  (159570, 31296)\t0.16396621423905874\n",
      "  (159570, 31243)\t0.27261837322220783\n",
      "  (159570, 30755)\t0.1585210624338273\n",
      "  (159570, 29243)\t0.11850415670814671\n",
      "  (159570, 28783)\t0.11225423437292556\n",
      "  (159570, 27525)\t0.2019940800084585\n",
      "  (159570, 27025)\t0.1948453781501538\n",
      "  (159570, 26672)\t0.2506261449919166\n",
      "  (159570, 26668)\t0.19852800014205632\n",
      "  (159570, 26652)\t0.11211943621129129\n",
      "  (159570, 26369)\t0.13011304502322618\n",
      "  (159570, 26357)\t0.2593967999353032\n",
      "  (159570, 26282)\t0.09386019860435807\n",
      "  (159570, 25955)\t0.22774183029360057\n",
      "  (159570, 25939)\t0.1579189053218514\n",
      "  (159570, 24346)\t0.126070100200052\n",
      "  (159570, 22990)\t0.2164432868686162\n",
      "  (159570, 22291)\t0.21520566369326033\n",
      "  (159570, 21542)\t0.3375251173993696\n",
      "  (159570, 21490)\t0.35545554056231643\n",
      "  (159570, 21005)\t0.11527525771752727\n"
     ]
    }
   ],
   "source": [
    "print(train_features)"
   ]
  },
  {
   "cell_type": "code",
   "execution_count": 33,
   "metadata": {},
   "outputs": [],
   "source": [
    "test_features = hstack([test_char_features, test_word_features])"
   ]
  },
  {
   "cell_type": "code",
   "execution_count": 34,
   "metadata": {},
   "outputs": [
    {
     "data": {
      "text/plain": [
       "<153164x35000 sparse matrix of type '<class 'numpy.float64'>'\n",
       "\twith 112072509 stored elements in COOrdinate format>"
      ]
     },
     "execution_count": 34,
     "metadata": {},
     "output_type": "execute_result"
    }
   ],
   "source": [
    "test_features"
   ]
  },
  {
   "cell_type": "code",
   "execution_count": 35,
   "metadata": {},
   "outputs": [
    {
     "name": "stdout",
     "output_type": "stream",
     "text": [
      "  (0, 19864)\t0.05191729660595573\n",
      "  (0, 19863)\t0.043715706672218\n",
      "  (0, 19844)\t0.047755481282585124\n",
      "  (0, 19843)\t0.031344254718224746\n",
      "  (0, 19838)\t0.031073042360456864\n",
      "  (0, 19837)\t0.03085090391827725\n",
      "  (0, 19827)\t0.039686052416149725\n",
      "  (0, 19821)\t0.026234343297666735\n",
      "  (0, 19820)\t0.03670048519184597\n",
      "  (0, 19819)\t0.03624493809269632\n",
      "  (0, 19814)\t0.03770519002015135\n",
      "  (0, 19563)\t0.03807898109416327\n",
      "  (0, 19545)\t0.020641896006976097\n",
      "  (0, 19537)\t0.011138187388761076\n",
      "  (0, 19536)\t0.02984068540020253\n",
      "  (0, 19522)\t0.04769682185911593\n",
      "  (0, 19521)\t0.0354602774427016\n",
      "  (0, 19520)\t0.029326095496142894\n",
      "  (0, 19480)\t0.01835759889827229\n",
      "  (0, 19464)\t0.037152467881211126\n",
      "  (0, 19463)\t0.03714405409225756\n",
      "  (0, 19462)\t0.0343372992501615\n",
      "  (0, 19456)\t0.02732072348722788\n",
      "  (0, 19414)\t0.020329536806025846\n",
      "  (0, 19413)\t0.019407398246644073\n",
      "  :\t:\n",
      "  (153162, 20751)\t0.17585355169977065\n",
      "  (153162, 20650)\t0.08813325406077673\n",
      "  (153162, 20502)\t0.05673016008509393\n",
      "  (153163, 34645)\t0.13567621130724186\n",
      "  (153163, 34636)\t0.1592879630551216\n",
      "  (153163, 34276)\t0.19536106018656627\n",
      "  (153163, 34271)\t0.2438745554382065\n",
      "  (153163, 33176)\t0.1719259266767944\n",
      "  (153163, 33120)\t0.09947243591895567\n",
      "  (153163, 32548)\t0.22490348229130178\n",
      "  (153163, 29912)\t0.42526823686737114\n",
      "  (153163, 29243)\t0.09210626789433309\n",
      "  (153163, 29086)\t0.11349787185344846\n",
      "  (153163, 29026)\t0.15835639824225062\n",
      "  (153163, 28042)\t0.1761217411667231\n",
      "  (153163, 27525)\t0.2658207960846691\n",
      "  (153163, 27203)\t0.15846130763380328\n",
      "  (153163, 26694)\t0.12889277843299546\n",
      "  (153163, 26652)\t0.08714380250198303\n",
      "  (153163, 26369)\t0.1712265686579827\n",
      "  (153163, 25499)\t0.36094444325981645\n",
      "  (153163, 24795)\t0.24847207484124528\n",
      "  (153163, 22191)\t0.324338366152521\n",
      "  (153163, 21005)\t0.08959663579622719\n",
      "  (153163, 20924)\t0.23598914019726958\n"
     ]
    }
   ],
   "source": [
    "print(test_features)"
   ]
  },
  {
   "cell_type": "code",
   "execution_count": 36,
   "metadata": {},
   "outputs": [],
   "source": [
    "losses = []\n",
    "predictions = {'id': test['id']}"
   ]
  },
  {
   "cell_type": "code",
   "execution_count": 37,
   "metadata": {},
   "outputs": [
    {
     "name": "stderr",
     "output_type": "stream",
     "text": [
      "\r",
      "  0%|          | 0/6 [00:00<?, ?it/s]"
     ]
    },
    {
     "name": "stdout",
     "output_type": "stream",
     "text": [
      "CV score for class toxic is 0.9781569109707159\n"
     ]
    },
    {
     "name": "stderr",
     "output_type": "stream",
     "text": [
      "\r",
      " 17%|█▋        | 1/6 [02:30<12:33, 150.79s/it]"
     ]
    },
    {
     "name": "stdout",
     "output_type": "stream",
     "text": [
      "CV score for class severe_toxic is 0.9885459781862073\n"
     ]
    },
    {
     "name": "stderr",
     "output_type": "stream",
     "text": [
      "\r",
      " 33%|███▎      | 2/6 [05:32<11:04, 166.05s/it]"
     ]
    },
    {
     "name": "stdout",
     "output_type": "stream",
     "text": [
      "CV score for class obscene is 0.989949127060258\n"
     ]
    },
    {
     "name": "stderr",
     "output_type": "stream",
     "text": [
      "\r",
      " 50%|█████     | 3/6 [08:01<08:01, 160.52s/it]"
     ]
    },
    {
     "name": "stdout",
     "output_type": "stream",
     "text": [
      "CV score for class threat is 0.9889193155217902\n"
     ]
    },
    {
     "name": "stderr",
     "output_type": "stream",
     "text": [
      "\r",
      " 67%|██████▋   | 4/6 [11:58<05:59, 179.72s/it]"
     ]
    },
    {
     "name": "stdout",
     "output_type": "stream",
     "text": [
      "CV score for class insult is 0.9824692287617731\n"
     ]
    },
    {
     "name": "stderr",
     "output_type": "stream",
     "text": [
      "\r",
      " 83%|████████▎ | 5/6 [14:30<02:54, 174.19s/it]"
     ]
    },
    {
     "name": "stdout",
     "output_type": "stream",
     "text": [
      "CV score for class identity_hate is 0.9827104181540816\n"
     ]
    },
    {
     "name": "stderr",
     "output_type": "stream",
     "text": [
      "100%|██████████| 6/6 [17:39<00:00, 176.53s/it]\n"
     ]
    }
   ],
   "source": [
    "for class_name in tqdm(class_names):\n",
    "    train_target = train[class_name]\n",
    "    classifier = LogisticRegression(solver='sag')\n",
    "    \n",
    "    cv_loss = np.mean(cross_val_score(classifier, train_features, train_target, cv=3, scoring='roc_auc'))\n",
    "    losses.append(cv_loss)\n",
    "    print('CV score for class {} is {}'.format(class_name, cv_loss))\n",
    "    \n",
    "    classifier.fit(train_features, train_target)\n",
    "    predictions[class_name] = classifier.predict_proba(test_features)[:, 1]"
   ]
  },
  {
   "cell_type": "code",
   "execution_count": 38,
   "metadata": {},
   "outputs": [
    {
     "name": "stdout",
     "output_type": "stream",
     "text": [
      "Total CV score is 0.9851251631091374\n"
     ]
    }
   ],
   "source": [
    "print('Total CV score is {}'.format(np.mean(losses)))"
   ]
  },
  {
   "cell_type": "code",
   "execution_count": 39,
   "metadata": {},
   "outputs": [],
   "source": [
    "submission = pd.DataFrame.from_dict(predictions)"
   ]
  },
  {
   "cell_type": "code",
   "execution_count": 40,
   "metadata": {},
   "outputs": [],
   "source": [
    "submission.to_csv('../submission/submission_01.csv', index=False)"
   ]
  }
 ],
 "metadata": {
  "kernelspec": {
   "display_name": "Python 3",
   "language": "python",
   "name": "python3"
  },
  "language_info": {
   "codemirror_mode": {
    "name": "ipython",
    "version": 3
   },
   "file_extension": ".py",
   "mimetype": "text/x-python",
   "name": "python",
   "nbconvert_exporter": "python",
   "pygments_lexer": "ipython3",
   "version": "3.6.4"
  }
 },
 "nbformat": 4,
 "nbformat_minor": 2
}
